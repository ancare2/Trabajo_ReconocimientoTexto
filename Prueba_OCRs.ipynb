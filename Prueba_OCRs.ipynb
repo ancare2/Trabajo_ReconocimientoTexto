{
  "nbformat": 4,
  "nbformat_minor": 0,
  "metadata": {
    "colab": {
      "provenance": []
    },
    "kernelspec": {
      "name": "python3",
      "display_name": "Python 3"
    },
    "language_info": {
      "name": "python"
    }
  },
  "cells": [
    {
      "cell_type": "markdown",
      "source": [
        "Carga de paquetes (y en el colab meter la imagen, habrá que quitar lo del google colab)"
      ],
      "metadata": {
        "id": "Xf95CSsw6Q-E"
      }
    },
    {
      "cell_type": "code",
      "execution_count": 126,
      "metadata": {
        "id": "p5b31cTtepbb"
      },
      "outputs": [],
      "source": [
        "import pywt\n",
        "import pywt.data\n",
        "from PIL import Image\n",
        "import numpy as np\n",
        "import cv2 # Para leer imagenes y meterles bordes, contornos y cosas\n",
        "from google.colab.patches import cv2_imshow\n",
        "import matplotlib.pyplot as plt\n",
        "import shutil\n",
        "import os\n",
        "import random\n",
        "try:\n",
        " from PIL import Image\n",
        "except ImportError:\n",
        " import Image\n",
        "\n",
        "from google.colab import files\n",
        "\n",
        "#uploaded = files.upload()\n"
      ]
    },
    {
      "cell_type": "markdown",
      "source": [
        "Cambiar el find contours por el connectedcomponents (va algo mejor):\n"
      ],
      "metadata": {
        "id": "cQI3PGV6Amw2"
      }
    },
    {
      "cell_type": "markdown",
      "source": [
        "Primero creamos la carpeta fotos donde se guardarán las letras segmentadas:"
      ],
      "metadata": {
        "id": "6Dsx9Bi_txTA"
      }
    },
    {
      "cell_type": "code",
      "source": [
        "folder_path = '/fotos'\n",
        "folder_name = \"fotos\"\n",
        "\n",
        "if os.path.exists(folder_path):\n",
        "    shutil.rmtree(folder_path)\n",
        "    print(f\"La carpeta {folder_path} ha sido eliminada.\")\n",
        "\n",
        "else:\n",
        "    print(f\"La carpeta {folder_path} no existe.\")\n",
        "\n",
        "if not os.path.exists(folder_path):\n",
        "    os.makedirs(folder_path)"
      ],
      "metadata": {
        "colab": {
          "base_uri": "https://localhost:8080/"
        },
        "id": "1tgNdgQMt1P4",
        "outputId": "fc3a9c70-5d81-431a-f3e1-50add0e98478"
      },
      "execution_count": 127,
      "outputs": [
        {
          "output_type": "stream",
          "name": "stdout",
          "text": [
            "La carpeta /fotos ha sido eliminada.\n"
          ]
        }
      ]
    },
    {
      "cell_type": "markdown",
      "source": [
        "Ahora cargamos nuestra imagen y la transformamos a escala de grises:"
      ],
      "metadata": {
        "id": "m-pPx4Bmt5m2"
      }
    },
    {
      "cell_type": "code",
      "source": [
        "image_path_in_colab=\"/content/WhatsApp Image 2023-11-17 at 12.19.16.jpeg\"\n",
        "\n",
        "image = cv2.imread(image_path_in_colab)\n",
        "\n",
        "gray = cv2.cvtColor(image, cv2.COLOR_BGR2GRAY)"
      ],
      "metadata": {
        "id": "ZGgb1svguFpf"
      },
      "execution_count": 128,
      "outputs": []
    },
    {
      "cell_type": "markdown",
      "source": [
        "Ahora, aplicamos el algoritmo de canny para detectar los bordes de la imagen, pasando a negro todo lo demás:"
      ],
      "metadata": {
        "id": "_uiyEix8uJyc"
      }
    },
    {
      "cell_type": "code",
      "source": [
        "edged_image = cv2.Canny(gray, threshold1=30, threshold2=100)"
      ],
      "metadata": {
        "id": "7A3T3v8_uTRU"
      },
      "execution_count": 129,
      "outputs": []
    },
    {
      "cell_type": "markdown",
      "source": [
        "Ahora procedemos a segmentar la imagen detectando las letras como componentes conectados (agrupaciones conectadas entre sí). Gracias a realzar tanto los bordes, esta clasificación es posible, ya que son los que permite que el algoritmo detecte las componentes conectadas."
      ],
      "metadata": {
        "id": "Lkz77TygublL"
      }
    },
    {
      "cell_type": "code",
      "source": [
        "regiones_recortadas = []\n",
        "areas=[]\n",
        "_, labels, stats, centroids = cv2.connectedComponentsWithStats(edged_image)\n",
        "\n",
        "for i, stat in enumerate(stats):\n",
        "    area = stat[cv2.CC_STAT_AREA]\n",
        "\n",
        "    if area > 100 and area < 700:\n",
        "        areas.append(area)\n",
        "\n",
        "        x, y, w, h = stat[cv2.CC_STAT_LEFT], stat[cv2.CC_STAT_TOP], stat[cv2.CC_STAT_WIDTH], stat[cv2.CC_STAT_HEIGHT]\n",
        "\n",
        "        roi = edged_image[y:y+h, x:x+w]\n",
        "        centroide = centroids[i]\n",
        "        regiones_recortadas.append((roi, centroide))"
      ],
      "metadata": {
        "id": "NuS8f_F-uqqk"
      },
      "execution_count": 130,
      "outputs": []
    },
    {
      "cell_type": "markdown",
      "source": [
        "Debido a tener una imagen sin relleno, en letras como la O donde no todos los bordes están conectados entre sí detecta más de una letra. Para solucionarlo, vamos a ordenar estas componentes por area, y después vamos a eliminar una letra si está muy cerca de otra (centroides cercanos) y su area es más pequeña (para quedarnos con la letra más grande, que suele ser la original)."
      ],
      "metadata": {
        "id": "wEmkcp1pu4u2"
      }
    },
    {
      "cell_type": "code",
      "source": [
        "indices = list(range(1, len(areas)))\n",
        "\n",
        "indices_ordenados = sorted(indices, key=lambda i: areas[i - 1], reverse=True)\n",
        "\n",
        "regiones_recortadas = [regiones_recortadas[i] for i in indices_ordenados]\n",
        "\n",
        "distancia_minima = 40\n",
        "\n",
        "regiones_finales = []\n",
        "centroides_procesados = []\n",
        "\n",
        "for region, centroide in regiones_recortadas:\n",
        "    duplicada = False\n",
        "    for centroide_procesado in centroides_procesados:\n",
        "        distancia = np.sqrt(((centroide[0] - centroide_procesado[0]) ** 2) + ((centroide[1] - centroide_procesado[1]) ** 2))\n",
        "        if distancia < distancia_minima:\n",
        "            duplicada = True\n",
        "            break\n",
        "\n",
        "    if not duplicada:\n",
        "        regiones_finales.append((region, centroide))\n",
        "        centroides_procesados.append(centroide)\n",
        "\n",
        "regiones_finales = sorted(regiones_finales, key=lambda x: (x[1][0], x[1][1]))"
      ],
      "metadata": {
        "id": "YS-1fEvHvUvc"
      },
      "execution_count": 131,
      "outputs": []
    },
    {
      "cell_type": "markdown",
      "source": [
        "Ahora, para que nuestra red funcione correctamente, necesitamos que la letra no este hueca. Para solucionarlo, vamos a engrosar los bordes para rellenar la letra:"
      ],
      "metadata": {
        "id": "ODuhZKpwweVd"
      }
    },
    {
      "cell_type": "code",
      "source": [
        "regiones_rellenadas = []\n",
        "kernel = cv2.getStructuringElement(cv2.MORPH_RECT, (3, 3))\n",
        "\n",
        "for region, centroide in regiones_finales:\n",
        "    dilated_region = cv2.dilate(region, kernel, iterations=3)\n",
        "    regiones_rellenadas.append((dilated_region, centroide))"
      ],
      "metadata": {
        "id": "agiFX53LyDMy"
      },
      "execution_count": 132,
      "outputs": []
    },
    {
      "cell_type": "markdown",
      "source": [
        "Ahora vamos a reescalar las regiones a 28x28 píxeles y añadiendo bordes negros para que la red funcione correctamente:"
      ],
      "metadata": {
        "id": "17Y2_raXyE1R"
      }
    },
    {
      "cell_type": "code",
      "source": [
        "regiones_redimensionadas = []\n",
        "for region in regiones_rellenadas:\n",
        "    h, w = region[0].shape[:2]\n",
        "    max_dim = max(h, w)\n",
        "    scale = 28.0 / max_dim\n",
        "    new_h, new_w = int(h * scale), int(w * scale)\n",
        "    resized_region = cv2.resize(region[0], (new_w, new_h))\n",
        "\n",
        "    padded_region = np.zeros((28, 28), dtype=np.uint8)\n",
        "    pad_h = (28 - new_h) // 2\n",
        "    pad_w = (28 - new_w) // 2\n",
        "    padded_region[pad_h:pad_h + new_h, pad_w:pad_w + new_w] = resized_region\n",
        "\n",
        "    padded_region=cv2.copyMakeBorder(padded_region, 4, 4, 4, 4, cv2.BORDER_CONSTANT, value=(0, 0, 0))\n",
        "\n",
        "    regiones_redimensionadas.append(padded_region)"
      ],
      "metadata": {
        "id": "lKjltmqeygF6"
      },
      "execution_count": 133,
      "outputs": []
    },
    {
      "cell_type": "markdown",
      "source": [
        "Por último, mostramos y guardamos las letras encontradas:"
      ],
      "metadata": {
        "id": "C5291GSWyjG5"
      }
    },
    {
      "cell_type": "code",
      "source": [
        "for i, region in enumerate(regiones_redimensionadas):\n",
        "    cv2.imwrite(os.path.join(folder_path, f'letra_{i}.png'), region)\n",
        "\n",
        "    cv2_imshow(region)"
      ],
      "metadata": {
        "colab": {
          "base_uri": "https://localhost:8080/",
          "height": 701
        },
        "id": "x_rm6fVS_138",
        "outputId": "6ace9af8-c245-4918-a923-3a4c6b97a05e"
      },
      "execution_count": 134,
      "outputs": [
        {
          "output_type": "display_data",
          "data": {
            "text/plain": [
              "<PIL.Image.Image image mode=L size=36x36>"
            ],
            "image/png": "[encoded data removed]"
          },
          "metadata": {}
        },
        {
          "output_type": "display_data",
          "data": {
            "text/plain": [
              "<PIL.Image.Image image mode=L size=36x36>"
            ],
            "image/png": "[encoded data removed]"
          },
          "metadata": {}
        },
        {
          "output_type": "display_data",
          "data": {
            "text/plain": [
              "<PIL.Image.Image image mode=L size=36x36>"
            ],
            "image/png": "[encoded data removed]"
          },
          "metadata": {}
        },
        {
          "output_type": "display_data",
          "data": {
            "text/plain": [
              "<PIL.Image.Image image mode=L size=36x36>"
            ],
            "image/png": "[encoded data removed]"
          },
          "metadata": {}
        },
        {
          "output_type": "display_data",
          "data": {
            "text/plain": [
              "<PIL.Image.Image image mode=L size=36x36>"
            ],
            "image/png": "[encoded data removed]"
          },
          "metadata": {}
        },
        {
          "output_type": "display_data",
          "data": {
            "text/plain": [
              "<PIL.Image.Image image mode=L size=36x36>"
            ],
            "image/png": "[encoded data removed]"
          },
          "metadata": {}
        },
        {
          "output_type": "display_data",
          "data": {
            "text/plain": [
              "<PIL.Image.Image image mode=L size=36x36>"
            ],
            "image/png": "[encoded data removed]"
          },
          "metadata": {}
        },
        {
          "output_type": "display_data",
          "data": {
            "text/plain": [
              "<PIL.Image.Image image mode=L size=36x36>"
            ],
            "image/png": "[encoded data removed]"
          },
          "metadata": {}
        },
        {
          "output_type": "display_data",
          "data": {
            "text/plain": [
              "<PIL.Image.Image image mode=L size=36x36>"
            ],
            "image/png": "[encoded data removed]"
          },
          "metadata": {}
        },
        {
          "output_type": "display_data",
          "data": {
            "text/plain": [
              "<PIL.Image.Image image mode=L size=36x36>"
            ],
            "image/png": "[encoded data removed]"
          },
          "metadata": {}
        },
        {
          "output_type": "display_data",
          "data": {
            "text/plain": [
              "<PIL.Image.Image image mode=L size=36x36>"
            ],
            "image/png": "[encoded data removed]"
          },
          "metadata": {}
        },
        {
          "output_type": "display_data",
          "data": {
            "text/plain": [
              "<PIL.Image.Image image mode=L size=36x36>"
            ],
            "image/png": "[encoded data removed]"
          },
          "metadata": {}
        },
        {
          "output_type": "display_data",
          "data": {
            "text/plain": [
              "<PIL.Image.Image image mode=L size=36x36>"
            ],
            "image/png": "[encoded data removed]"
          },
          "metadata": {}
        },
        {
          "output_type": "display_data",
          "data": {
            "text/plain": [
              "<PIL.Image.Image image mode=L size=36x36>"
            ],
            "image/png": "[encoded data removed]"
          },
          "metadata": {}
        },
        {
          "output_type": "display_data",
          "data": {
            "text/plain": [
              "<PIL.Image.Image image mode=L size=36x36>"
            ],
            "image/png": "[encoded data removed]"
          },
          "metadata": {}
        },
        {
          "output_type": "display_data",
          "data": {
            "text/plain": [
              "<PIL.Image.Image image mode=L size=36x36>"
            ],
            "image/png": "[encoded data removed]"
          },
          "metadata": {}
        },
        {
          "output_type": "display_data",
          "data": {
            "text/plain": [
              "<PIL.Image.Image image mode=L size=36x36>"
            ],
            "image/png": "[encoded data removed]"
          },
          "metadata": {}
        },
        {
          "output_type": "display_data",
          "data": {
            "text/plain": [
              "<PIL.Image.Image image mode=L size=36x36>"
            ],
            "image/png": "[encoded data removed]"
          },
          "metadata": {}
        },
        {
          "output_type": "display_data",
          "data": {
            "text/plain": [
              "<PIL.Image.Image image mode=L size=36x36>"
            ],
            "image/png": "[encoded data removed]"
          },
          "metadata": {}
        }
      ]
    },
    {
      "cell_type": "code",
      "source": [
        "cv2_imshow(edged_image)"
      ],
      "metadata": {
        "colab": {
          "base_uri": "https://localhost:8080/",
          "height": 365
        },
        "id": "9oP73XAo1rrS",
        "outputId": "ea489408-2085-4b84-8d30-26b1c2b5b877"
      },
      "execution_count": 135,
      "outputs": [
        {
          "output_type": "display_data",
          "data": {
            "text/plain": [
              "<PIL.Image.Image image mode=L size=2048x640>"
            ],
            "image/png": "[encoded data removed]"
          },
          "metadata": {}
        }
      ]
    }
  ]
}